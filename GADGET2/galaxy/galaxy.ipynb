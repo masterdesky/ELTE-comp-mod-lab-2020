{
 "cells": [
  {
   "cell_type": "markdown",
   "metadata": {},
   "source": [
    "# Visualize HDF5 outputs from GADGET-2 - Galaxy collision simulation"
   ]
  },
  {
   "cell_type": "code",
   "execution_count": null,
   "metadata": {},
   "outputs": [],
   "source": [
    "import os\n",
    "import h5py\n",
    "import numpy as np\n",
    "\n",
    "from scipy.interpolate import interpn\n",
    "\n",
    "import seaborn as sns\n",
    "import matplotlib as mpl\n",
    "import matplotlib.cm as cm\n",
    "import matplotlib.pyplot as plt\n",
    "from mpl_toolkits.mplot3d import Axes3D\n",
    "from matplotlib.colors import Normalize \n",
    "import matplotlib.animation as animation\n",
    "from mpl_toolkits.axes_grid1 import make_axes_locatable\n",
    "\n",
    "from IPython.display import display"
   ]
  },
  {
   "cell_type": "code",
   "execution_count": null,
   "metadata": {},
   "outputs": [],
   "source": [
    "path = '/home/masterdesky/GADGET2/Simulations/galaxy/'\n",
    "out = './out/'\n",
    "\n",
    "# Bold print for Jupyter Notebook\n",
    "b1 = '\\033[1m'\n",
    "b0 = '\\033[0m'"
   ]
  },
  {
   "cell_type": "markdown",
   "metadata": {},
   "source": [
    "### Just some matplotlib and seaborn parameter tuning"
   ]
  },
  {
   "cell_type": "code",
   "execution_count": null,
   "metadata": {},
   "outputs": [],
   "source": [
    "axistitlesize = 20\n",
    "axisticksize = 17\n",
    "axislabelsize = 26\n",
    "axislegendsize = 23\n",
    "axistextsize = 20\n",
    "axiscbarfontsize = 15\n",
    "\n",
    "# Set axtick dimensions\n",
    "major_size = 6\n",
    "major_width = 1.2\n",
    "minor_size = 3\n",
    "minor_width = 1\n",
    "mpl.rcParams['xtick.major.size'] = major_size\n",
    "mpl.rcParams['xtick.major.width'] = major_width\n",
    "mpl.rcParams['xtick.minor.size'] = minor_size\n",
    "mpl.rcParams['xtick.minor.width'] = minor_width\n",
    "mpl.rcParams['ytick.major.size'] = major_size\n",
    "mpl.rcParams['ytick.major.width'] = major_width\n",
    "mpl.rcParams['ytick.minor.size'] = minor_size\n",
    "mpl.rcParams['ytick.minor.width'] = minor_width\n",
    "\n",
    "mpl.rcParams.update({'figure.autolayout': False})\n",
    "\n",
    "# Seaborn style settings\n",
    "sns.set_style({'axes.axisbelow': True,\n",
    "               'axes.edgecolor': '.8',\n",
    "               'axes.facecolor': 'white',\n",
    "               'axes.grid': True,\n",
    "               'axes.labelcolor': '.15',\n",
    "               'axes.spines.bottom': True,\n",
    "               'axes.spines.left': True,\n",
    "               'axes.spines.right': True,\n",
    "               'axes.spines.top': True,\n",
    "               'figure.facecolor': 'white',\n",
    "               'font.family': ['sans-serif'],\n",
    "               'font.sans-serif': ['Arial',\n",
    "                'DejaVu Sans',\n",
    "                'Liberation Sans',\n",
    "                'Bitstream Vera Sans',\n",
    "                'sans-serif'],\n",
    "               'grid.color': '.8',\n",
    "               'grid.linestyle': '--',\n",
    "               'image.cmap': 'rocket',\n",
    "               'lines.solid_capstyle': 'round',\n",
    "               'patch.edgecolor': 'w',\n",
    "               'patch.force_edgecolor': True,\n",
    "               'text.color': '.15',\n",
    "               'xtick.bottom': True,\n",
    "               'xtick.color': '.15',\n",
    "               'xtick.direction': 'in',\n",
    "               'xtick.top': True,\n",
    "               'ytick.color': '.15',\n",
    "               'ytick.direction': 'in',\n",
    "               'ytick.left': True,\n",
    "               'ytick.right': True})\n",
    "\n",
    "# Colorpalettes, colormaps, etc.\n",
    "sns.set_palette(palette='rocket')"
   ]
  },
  {
   "cell_type": "markdown",
   "metadata": {},
   "source": [
    "## Load HDF5 snapshots"
   ]
  },
  {
   "cell_type": "code",
   "execution_count": null,
   "metadata": {},
   "outputs": [],
   "source": [
    "snapshots = sorted([f for f in os.listdir(path) if 'snapshot' in f])"
   ]
  },
  {
   "cell_type": "markdown",
   "metadata": {},
   "source": [
    "### Loading coordinates"
   ]
  },
  {
   "cell_type": "code",
   "execution_count": null,
   "metadata": {},
   "outputs": [],
   "source": [
    "def density_scatter(x, y, sort=True, bins=[20,20]):\n",
    "    \"\"\"\n",
    "    Scatter plot colored by 2d histogram\n",
    "    \"\"\"\n",
    "    data, x_e, y_e = np.histogram2d(x, y, bins=bins, density=True)\n",
    "    c = interpn((0.5*(x_e[1:] + x_e[:-1]), 0.5*(y_e[1:]+y_e[:-1])),\n",
    "                data , np.vstack([x,y]).T,\n",
    "                method='splinef2d', bounds_error=False)\n",
    "\n",
    "    # To be sure to plot all data\n",
    "    c[np.where(np.isnan(c))] = 0.0\n",
    "\n",
    "    # Sort the points by density, so that the densest points are plotted last\n",
    "    if sort :\n",
    "        idx = c.argsort()\n",
    "        x, y, c = x[idx], y[idx], c[idx]\n",
    "\n",
    "    return np.vstack([x,y]).T, c"
   ]
  },
  {
   "cell_type": "code",
   "execution_count": null,
   "metadata": {},
   "outputs": [],
   "source": [
    "sf = h5py.File(path + snapshots[0], 'r')"
   ]
  },
  {
   "cell_type": "code",
   "execution_count": null,
   "metadata": {},
   "outputs": [],
   "source": [
    "xyz = np.array(list(sf['PartType2']['Coordinates']))"
   ]
  },
  {
   "cell_type": "code",
   "execution_count": null,
   "metadata": {},
   "outputs": [],
   "source": [
    "x = xyz[:, 0]\n",
    "y = xyz[:, 1]\n",
    "z = xyz[:, 2]\n",
    "data_1, c_1 = density_scatter(x, y, sort=True, bins=[50,50]) # XY\n",
    "data_2, c_2 = density_scatter(x, z, sort=True, bins=[50,50]) # XZ\n",
    "data_3, c_3 = density_scatter(y, z, sort=True, bins=[50,50]) # YZ"
   ]
  },
  {
   "cell_type": "code",
   "execution_count": null,
   "metadata": {},
   "outputs": [],
   "source": [
    "nrows = 1\n",
    "ncols = 3\n",
    "fig, axes = plt.subplots(nrows, ncols, figsize=(ncols*15, nrows*15))\n",
    "\n",
    "sc = 2\n",
    "# XY\n",
    "ax = axes[0]\n",
    "ax.scatter(data_1[:,0], data_1[:,1], c=c_1, s=sc**2)\n",
    "\n",
    "# XZ\n",
    "ax = axes[1]\n",
    "ax.scatter(data_2[:,0], data_2[:,1], c=c_2, s=sc**2)\n",
    "\n",
    "# YZ\n",
    "ax = axes[2]\n",
    "ax.scatter(data_3[:,0], data_3[:,1], c=c_3, s=sc**2)\n",
    "\n",
    "view = [('X','Y'), ('X','Z'), ('Y','Z')]\n",
    "for i, ax in enumerate(axes):\n",
    "    ax.set_title('View direction : {0}-{1} axis'.format(view[i][0], view[i][1]),\n",
    "                 fontsize=axistitlesize, fontweight='bold')\n",
    "    ax.set_xlabel('[kly]', fontsize=axislabelsize, fontweight='bold')\n",
    "    ax.set_ylabel('[kly]', fontsize=axislabelsize, fontweight='bold')\n",
    "    ax.tick_params(axis='both', which='major', labelsize=axisticksize)\n",
    "\n",
    "plt.show()"
   ]
  },
  {
   "cell_type": "code",
   "execution_count": null,
   "metadata": {},
   "outputs": [],
   "source": [
    "from scipy import stats\n",
    "from mayavi import mlab"
   ]
  },
  {
   "cell_type": "code",
   "execution_count": null,
   "metadata": {},
   "outputs": [],
   "source": [
    "# Plot scatter with mayavi\n",
    "figure = mlab.figure('DensityPlot')\n",
    "pts = mlab.points3d(x, y, z, density, scale_mode='none', scale_factor=5e-1)\n",
    "axes = mlab.axes(x_axis_visibility=False, y_axis_visibility=False, z_axis_visibility=False)\n",
    "\n",
    "#mlab.xlabel('X [kly]')\n",
    "#mlab.ylabel('Y [kly]')\n",
    "#mlab.zlabel('Z [kly]')\n",
    "\n",
    "mlab.show()"
   ]
  },
  {
   "cell_type": "code",
   "execution_count": null,
   "metadata": {},
   "outputs": [],
   "source": [
    "# Load the first set of coordinates\n",
    "sf = h5py.File(path + snapshots[0], 'r')\n",
    "xyz = np.array(list(sf['PartType2']['Coordinates']))\n",
    "x = xyz[:, 0]\n",
    "y = xyz[:, 1]\n",
    "z = xyz[:, 2]\n",
    "# Calculate densities\n",
    "mu, sigma = 0, 0.1\n",
    "xyz_kde = np.vstack([x,y,z])\n",
    "kde = stats.gaussian_kde(xyz_kde)\n",
    "density = kde(xyz_kde)\n",
    "# Plot the first frame\n",
    "pts = mlab.points3d(x, y, z, density, scale_mode='none', scale_factor=5e-1)\n",
    "\n",
    "@mlab.animate(delay=33)\n",
    "def anim():\n",
    "    fig = mlab.figure('DensityPlot')\n",
    "    axes = mlab.axes(x_axis_visibility=False, y_axis_visibility=False, z_axis_visibility=False)\n",
    "    while True:\n",
    "        for sf in snapshots[1:]:\n",
    "            sf = h5py.File(path + sf, 'r')\n",
    "            xyz = np.array(list(sf['PartType2']['Coordinates']))\n",
    "            x = xyz[:, 0]\n",
    "            y = xyz[:, 1]\n",
    "            z = xyz[:, 2]\n",
    "            xyz_kde = np.vstack([x,y,z])\n",
    "            kde = stats.gaussian_kde(xyz_kde)\n",
    "            density = kde(xyz_kde)\n",
    "            #print('Updating scene...')\n",
    "            pts.mlab_source.set(x=x, y=y, z=z, scalars=density)\n",
    "            #fig.scene.render()\n",
    "            yield\n",
    "\n",
    "anim()\n",
    "mlab.show()"
   ]
  },
  {
   "cell_type": "markdown",
   "metadata": {},
   "source": [
    "## Animate HDF5 snapshots"
   ]
  },
  {
   "cell_type": "code",
   "execution_count": null,
   "metadata": {},
   "outputs": [],
   "source": [
    "class AnimatedCollision(object):\n",
    "    \"\"\"\n",
    "    An animated scatter plot using matplotlib.animations.FuncAnimation.\n",
    "    Based on : https://stackoverflow.com/questions/9401658/how-to-animate-a-scatter-plot\n",
    "    \"\"\"\n",
    "    def __init__(self, snapshots, fps):\n",
    "        self.snapshots = snapshots\n",
    "        self.n_snapshots = len(snapshots)\n",
    "        self.fps = fps\n",
    "\n",
    "        self.nrows = 1\n",
    "        self.ncols = 3        \n",
    "        self.fig, self.axes = plt.subplots(self.nrows, self.ncols, figsize=(self.ncols*12, self.nrows*12),\n",
    "                                           facecolor='black', subplot_kw={'facecolor' : 'black'})\n",
    "        self.sc = 2\n",
    "        # Setup `matplotlib`'s FuncAnimation\n",
    "        self.ani = animation.FuncAnimation(self.fig, self.update, interval=1000/self.fps, frames=self.n_snapshots,\n",
    "                                           init_func=self.setup_plot, blit=True, )\n",
    "        \n",
    "        # Set up formatting for the movie files\n",
    "        self.Writer = animation.writers['ffmpeg']\n",
    "        self.writer = self.Writer(fps=self.fps, metadata=dict(artist='BalageP'), bitrate=24000)\n",
    "\n",
    "    def setup_plot(self):\n",
    "        \"\"\"\n",
    "        Initial drawing of the scatter plot.\n",
    "        \"\"\"\n",
    "        data_1, data_2, data_3, c_1, c_2, c_3 = next(self.data_stream(0))\n",
    "        self.scat_0 = self.axes[0].scatter([], [], c=[], s=self.sc**2)\n",
    "        self.scat_1 = self.axes[1].scatter([], [], c=[], s=self.sc**2)\n",
    "        self.scat_2 = self.axes[2].scatter([], [], c=[], s=self.sc**2)\n",
    "        \n",
    "        # Set limits of axes\n",
    "        for i, v in enumerate([data_1, data_2, data_3]):\n",
    "            self.axes[i].set_xlim(v[:,0].min(), v[:,0].max()) \n",
    "            self.axes[i].set_ylim(v[:,1].min(), v[:,1].max())\n",
    "\n",
    "        # Set axes ticks and labels\n",
    "        view = [('X','Y'), ('X','Z'), ('Y','Z')]\n",
    "        for k, ax in enumerate(self.axes):\n",
    "            ax.grid(False)\n",
    "            ax.set_title('View direction : {0}-{1} axis'.format(view[k][0], view[k][1]),\n",
    "                         fontsize=axistitlesize, fontweight='bold', color='white')\n",
    "            ax.set_xlabel('[kly]', fontsize=axislabelsize, fontweight='bold', color='white')\n",
    "            ax.set_ylabel('[kly]', fontsize=axislabelsize, fontweight='bold', color='white')\n",
    "            ax.tick_params(axis='both', which='major', labelsize=axisticksize, colors='white')\n",
    "        \n",
    "        # For FuncAnimation's sake, we need to return the artist we'll be using.\n",
    "        # Note that it expects a sequence of artists, thus the trailing comma.\n",
    "        return self.scat_0, self.scat_1, self.scat_2,\n",
    "\n",
    "    def density_scatter(self, x, y, sort=True, bins=[20,20]):\n",
    "        \"\"\"\n",
    "        Scatter plot colored by 2d histogram\n",
    "        \"\"\"\n",
    "        data, x_e, y_e = np.histogram2d(x, y, bins=bins, density=True)\n",
    "        c = interpn((0.5*(x_e[1:] + x_e[:-1]), 0.5*(y_e[1:]+y_e[:-1])),\n",
    "                    data , np.vstack([x,y]).T,\n",
    "                    method='splinef2d', bounds_error=False)\n",
    "\n",
    "        # To be sure to plot all data\n",
    "        c[np.where(np.isnan(c))] = 0.0\n",
    "\n",
    "        # Sort the points by density, so that the densest points are plotted last\n",
    "        if sort :\n",
    "            idx = c.argsort()\n",
    "            x, y, c = x[idx], y[idx], c[idx]\n",
    "\n",
    "        return np.vstack([x,y]).T, c\n",
    "    \n",
    "    def data_stream(self, i):\n",
    "        \"\"\"\n",
    "        Load states of the galaxies from the HDF5 files on the run to save memory.\n",
    "        \"\"\"\n",
    "        while True:\n",
    "            sf = h5py.File(path + self.snapshots[i], 'r')\n",
    "            xyz = np.array(list(sf['PartType2']['Coordinates']))\n",
    "            x = xyz[:, 0]\n",
    "            y = xyz[:, 1]\n",
    "            z = xyz[:, 2]\n",
    "            data_1, c_1 = self.density_scatter(x, y, sort=True, bins=[50,50]) # XY\n",
    "            data_2, c_2 = self.density_scatter(x, z, sort=True, bins=[50,50]) # XZ\n",
    "            data_3, c_3 = self.density_scatter(y, z, sort=True, bins=[50,50]) # YZ\n",
    "            yield data_1, data_2, data_3, c_1, c_2, c_3\n",
    "\n",
    "    def update(self, i):\n",
    "        \"\"\"\n",
    "        Update the scatter plot.\n",
    "        \"\"\"\n",
    "        data_1, data_2, data_3, c_1, c_2, c_3 = next(self.data_stream(i))\n",
    "\n",
    "        # Set data\n",
    "        self.scat_0.set_offsets(data_1)\n",
    "        self.scat_1.set_offsets(data_2)\n",
    "        self.scat_2.set_offsets(data_3)\n",
    "        \n",
    "        # Set colors for data\n",
    "        self.scat_0.set_array(c_1)\n",
    "        self.scat_1.set_array(c_2)\n",
    "        self.scat_2.set_array(c_3)\n",
    "\n",
    "        # We need to return the updated artist for FuncAnimation to draw.\n",
    "        # Note that it expects a sequence of artists, thus the trailing comma.\n",
    "        return self.scat_0, self.scat_1, self.scat_2,"
   ]
  },
  {
   "cell_type": "code",
   "execution_count": null,
   "metadata": {},
   "outputs": [],
   "source": [
    "a = AnimatedCollision(snapshots, fps=30)"
   ]
  },
  {
   "cell_type": "code",
   "execution_count": null,
   "metadata": {},
   "outputs": [],
   "source": [
    "a.ani.save('galaxy_density_30fps.mp4', writer=a.writer)"
   ]
  },
  {
   "cell_type": "code",
   "execution_count": null,
   "metadata": {},
   "outputs": [],
   "source": []
  }
 ],
 "metadata": {
  "kernelspec": {
   "display_name": "Python 3 (ipykernel)",
   "language": "python",
   "name": "python3"
  },
  "language_info": {
   "codemirror_mode": {
    "name": "ipython",
    "version": 3
   },
   "file_extension": ".py",
   "mimetype": "text/x-python",
   "name": "python",
   "nbconvert_exporter": "python",
   "pygments_lexer": "ipython3",
   "version": "3.9.10"
  }
 },
 "nbformat": 4,
 "nbformat_minor": 4
}
